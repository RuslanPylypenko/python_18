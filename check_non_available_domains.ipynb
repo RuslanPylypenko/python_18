{
 "cells": [
  {
   "cell_type": "code",
   "execution_count": 1,
   "id": "c6ebc724-c2a1-4abe-9498-2cd4f24c9c96",
   "metadata": {
    "tags": []
   },
   "outputs": [
    {
     "name": "stdout",
     "output_type": "stream",
     "text": [
      "['https://www.linkedin.com/asdasdas', 'https://localhost:8082/']\n"
     ]
    }
   ],
   "source": [
    "import requests\n",
    "\n",
    "URLS = [\n",
    "    \"https://google.com\",  # 200\n",
    "    \"https://www.linkedin.com/asdasdas\",  # 404,\n",
    "    \"https://reston.com.ua/\",\n",
    "    \"https://localhost:8082/\",\n",
    "\n",
    "]\n",
    "TIMEOUT = 5\n",
    "\n",
    "\n",
    "def check_non_available_domains(urls, timeout=None):\n",
    "    no_available = []\n",
    "    for url in urls:\n",
    "        try:\n",
    "            response = requests.get(url, timeout=timeout)\n",
    "            if response.status_code != requests.codes.ok:\n",
    "                no_available.append(url)\n",
    "        except requests.exceptions.RequestException:\n",
    "            no_available.append(url)\n",
    "    return no_available\n",
    "\n",
    "\n",
    "print(check_non_available_domains(URLS))\n"
   ]
  }
 ],
 "metadata": {
  "kernelspec": {
   "display_name": "Python 3 (ipykernel)",
   "language": "python",
   "name": "python3"
  },
  "language_info": {
   "codemirror_mode": {
    "name": "ipython",
    "version": 3
   },
   "file_extension": ".py",
   "mimetype": "text/x-python",
   "name": "python",
   "nbconvert_exporter": "python",
   "pygments_lexer": "ipython3",
   "version": "3.10.6"
  }
 },
 "nbformat": 4,
 "nbformat_minor": 5
}
